{
 "cells": [
  {
   "cell_type": "code",
   "execution_count": 1,
   "metadata": {},
   "outputs": [],
   "source": [
    "import numpy as np\n",
    "from scipy.linalg import eigh\n",
    "\n",
    "alpha = np.array([0.298073, 1.242567, 5.782948, 38.474970], dtype=\"float64\")"
   ]
  },
  {
   "cell_type": "code",
   "execution_count": 2,
   "metadata": {},
   "outputs": [],
   "source": [
    "Q = np.zeros((4,4,4,4))\n",
    "S = np.zeros((4,4))\n",
    "A = np.zeros((4,4))\n",
    "T = np.zeros((4,4))\n",
    "h = np.zeros((4,4))\n",
    "\n",
    "# build Q\n",
    "for p in range(4):\n",
    "    for q in range(4):\n",
    "        for r in range(4):\n",
    "            for s in range(4):\n",
    "                numQ = ( 2 * ((np.pi)**(5/2)) ) \n",
    "                denQ = ( alpha[p] + alpha [q] ) * ( alpha[r] + alpha[s] ) \\\n",
    "                * np.sqrt( alpha[p] + alpha [q] + alpha[r] + alpha[s])\n",
    "                Q[p][r][q][s] = numQ/denQ\n",
    "                \n",
    "# build S\n",
    "for p in range(4):\n",
    "    for q in range(4):\n",
    "        S[q][p] = ( np.pi / ( alpha[p] + alpha[q] ) ) ** (3/2)\n",
    "            \n",
    "# build T\n",
    "for p in range(4):\n",
    "    for q in range(4):\n",
    "        T[p][q] = 3 * (( ( alpha[p]*alpha[q] )*( np.pi**(3/2) ) ) \\\n",
    "                        / ( ( alpha[p] + alpha[q] )**(5/2) ))\n",
    "        \n",
    "# build A\n",
    "for p in range(4):\n",
    "    for q in range(4):\n",
    "        A[p][q] = - ( (2 * np.pi) / ( alpha[p] + alpha[q] ) )\n",
    "        \n",
    "# build h\n",
    "for p in range(4):\n",
    "    for q in range(4):\n",
    "        h[p][q] = 2*A[p][q] + T[p][q]"
   ]
  },
  {
   "cell_type": "code",
   "execution_count": 3,
   "metadata": {},
   "outputs": [],
   "source": [
    "# C normalization\n",
    "def c_norm(c,S):\n",
    "    NormSquared = c@S@c\n",
    "    c = c/np.sqrt(NormSquared)\n",
    "    return c"
   ]
  },
  {
   "cell_type": "code",
   "execution_count": 4,
   "metadata": {},
   "outputs": [],
   "source": [
    "def build_F(h,Q,c):\n",
    "    \n",
    "    F = np.zeros((4,4))\n",
    "    \n",
    "    F1 = np.zeros((4,4))\n",
    "    for p in range(4):\n",
    "        for r in range(4):\n",
    "            for q in range(4):\n",
    "                for s in range(4):\n",
    "                    F1[p][q] = F1[p][q] + Q[p][r][q][s]*c[r]*c[s]\n",
    "    for p in range(4):\n",
    "        for q in range(4):\n",
    "            F[p][q] = F1[p][q] + h[p][q]\n",
    "    return F\n",
    "\n",
    "def build_Eg(c,h,Q):\n",
    "    \n",
    "    Eg1 = 0\n",
    "    Eg2 = 0\n",
    "    \n",
    "    for p in range(4):\n",
    "        for r in range(4):\n",
    "            for q in range(4):\n",
    "                for s in range(4):\n",
    "                    Eg1 = Eg1 + Q[p][r][q][s]*c[p]*c[q]*c[r]*c[s]\n",
    "                    \n",
    "    for p in range(4):\n",
    "        for q in range(4):\n",
    "            Eg2 = Eg2 + c[p]*c[q]*h[p][q]\n",
    "            \n",
    "    return Eg1 + 2 * Eg2    "
   ]
  },
  {
   "cell_type": "code",
   "execution_count": 5,
   "metadata": {},
   "outputs": [],
   "source": [
    "c = np.array([0.25,0.25,0.25,0.25], dtype=\"float64\")\n",
    "c = c_norm(c, S)\n",
    "F = build_F(h,Q,c)"
   ]
  },
  {
   "cell_type": "code",
   "execution_count": 6,
   "metadata": {},
   "outputs": [
    {
     "name": "stdout",
     "output_type": "stream",
     "text": [
      "[ 0.12715455  0.37736535 -0.16519013  0.0503551 ]\n",
      "[ 0.13155494  0.37600357 -0.16484788  0.05035959]\n",
      "[ 0.1310385   0.37615304 -0.1649171   0.05036319]\n",
      "[ 0.13109696  0.37613615 -0.16490928  0.05036279]\n",
      "[ 0.13109033  0.37613807 -0.16491017  0.05036283]\n",
      "[ 0.13109108  0.37613785 -0.16491007  0.05036283]\n"
     ]
    }
   ],
   "source": [
    "E = 0.\n",
    "new_E = 1000.\n",
    "\n",
    "while( abs(E-new_E) > 1e-6 ):\n",
    "    \n",
    "    c = c_norm(c, S)\n",
    "    F = build_F(h,Q,c)\n",
    "    #print(F)\n",
    "    \n",
    "    E = new_E\n",
    "    # Solve the generalized eigenvalue problem Fc = E'Sc\n",
    "    eigenvalues, eigenvectors = \\\n",
    "    eigh(F, b=S, eigvals_only=False, overwrite_a=True, overwrite_b=True)\n",
    "    sort_indices = np.argsort(eigenvalues)\n",
    "    eigenvalues = eigenvalues[sort_indices]\n",
    "    eigenvectors = eigenvectors[:, sort_indices]\n",
    "    c = c_norm(eigenvectors[0], S)\n",
    "    print(eigenvectors[0])\n",
    "    new_E = build_Eg(c,h,Q)\n"
   ]
  },
  {
   "cell_type": "code",
   "execution_count": 7,
   "metadata": {},
   "outputs": [
    {
     "name": "stdout",
     "output_type": "stream",
     "text": [
      "-2.319269584303277\n"
     ]
    }
   ],
   "source": [
    "result = build_Eg(c,h,Q)\n",
    "print(result)"
   ]
  },
  {
   "cell_type": "code",
   "execution_count": null,
   "metadata": {},
   "outputs": [],
   "source": []
  }
 ],
 "metadata": {
  "kernelspec": {
   "display_name": "torchenv",
   "language": "python",
   "name": "python3"
  },
  "language_info": {
   "codemirror_mode": {
    "name": "ipython",
    "version": 3
   },
   "file_extension": ".py",
   "mimetype": "text/x-python",
   "name": "python",
   "nbconvert_exporter": "python",
   "pygments_lexer": "ipython3",
   "version": "3.11.5"
  }
 },
 "nbformat": 4,
 "nbformat_minor": 2
}
