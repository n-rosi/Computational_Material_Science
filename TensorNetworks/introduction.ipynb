{
 "cells": [
  {
   "cell_type": "markdown",
   "metadata": {},
   "source": [
    "### Introduction to Tensor Networks\n",
    "\n",
    "Exercise 1"
   ]
  },
  {
   "cell_type": "code",
   "execution_count": 3,
   "metadata": {},
   "outputs": [
    {
     "name": "stdout",
     "output_type": "stream",
     "text": [
      "1080\n"
     ]
    }
   ],
   "source": [
    "def A(i,j):\n",
    "    return j**2-2*i\n",
    "def B(i,j,k):\n",
    "    return -3**i+j*k\n",
    "def C(i,j):\n",
    "    return j\n",
    "def D(i,j,k):\n",
    "    return i*j*k\n",
    "\n",
    "TensorNetwork = 0\n",
    "for a in range(3):\n",
    "    for b in range(3):\n",
    "        for c in range(3):\n",
    "            for d in range(3):\n",
    "                for e in range(3):\n",
    "                    TensorNetwork = TensorNetwork + A(a,b)*B(a,c,d)*C(d,e)*D(b,c,e)\n",
    "            \n",
    "print(TensorNetwork)\n"
   ]
  },
  {
   "cell_type": "markdown",
   "metadata": {},
   "source": [
    "Exercise 2\n",
    "\n",
    "| current                     | tensor | contract         | new                         |\n",
    "|-----------------------------|--------|------------------|-----------------------------|\n",
    "|              -              |    A   |         -        |       $\\alpha$,$\\beta$      |\n",
    "|       $\\alpha$,$\\beta$      |    B   |     $\\alpha$     |       $\\beta$,$\\gamma$      |\n",
    "|      $\\alpha$,$\\gamma$      |    C   |     $\\gamma$     | $\\delta$,$\\epsilon$,$\\beta$ |\n",
    "| $\\beta$,$\\delta$,$\\epsilon$ |    D   | $\\beta$,$\\delta$ |          $\\epsilon$         |\n",
    "|          $\\epsilon$         |    E   |    $\\epsilon$    |              -              |"
   ]
  },
  {
   "cell_type": "markdown",
   "metadata": {},
   "source": [
    "Exercise 3"
   ]
  },
  {
   "cell_type": "markdown",
   "metadata": {},
   "source": []
  }
 ],
 "metadata": {
  "kernelspec": {
   "display_name": "torchenv",
   "language": "python",
   "name": "torchenv"
  },
  "language_info": {
   "codemirror_mode": {
    "name": "ipython",
    "version": 3
   },
   "file_extension": ".py",
   "mimetype": "text/x-python",
   "name": "python",
   "nbconvert_exporter": "python",
   "pygments_lexer": "ipython3",
   "version": "3.11.5"
  }
 },
 "nbformat": 4,
 "nbformat_minor": 2
}
