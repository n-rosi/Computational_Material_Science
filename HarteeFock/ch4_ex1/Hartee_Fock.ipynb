{
 "cells": [
  {
   "cell_type": "code",
   "execution_count": 60,
   "metadata": {},
   "outputs": [],
   "source": [
    "import numpy as np\n",
    "from scipy.linalg import eigh\n",
    "\n",
    "alpha = np.array([0.298073, 1.242567, 5.782948, 38.474970], dtype=\"float64\")\n",
    "c = np.array([1,2,3,4], dtype=\"float64\")"
   ]
  },
  {
   "cell_type": "code",
   "execution_count": 131,
   "metadata": {},
   "outputs": [],
   "source": [
    "Q = np.zeros((4,4,4,4))\n",
    "S = np.zeros((4,4))\n",
    "A = np.zeros((4,4))\n",
    "T = np.zeros((4,4))\n",
    "h = np.zeros((4,4))\n",
    "F = np.zeros((4,4))\n",
    "\n",
    "# build Q\n",
    "for p in range(4):\n",
    "    for q in range(4):\n",
    "        for r in range(4):\n",
    "            for s in range(4):\n",
    "                numQ = ( 2 * ((np.pi)**(5/2)) ) \n",
    "                denQ = ( alpha[p] + alpha [q] ) * ( alpha[r] + alpha[s] ) \\\n",
    "                * np.sqrt( alpha[p] + alpha [q] + alpha[r] + alpha[s])\n",
    "                Q[p][r][q][s] = numQ/denQ\n",
    "                \n",
    "# build S\n",
    "for p in range(4):\n",
    "    for q in range(4):\n",
    "        S[q][p] = ( np.pi / ( alpha[p] + alpha[q] ) ) ** (3/2)\n",
    "            \n",
    "# build T\n",
    "for p in range(4):\n",
    "    for q in range(4):\n",
    "        T[p][q] = 3 * (( ( alpha[p]*alpha[q] )*( np.pi**(3/2) ) ) \\\n",
    "                        / ( ( alpha[p] + alpha[q] )**(5/2) ))\n",
    "        \n",
    "# build A\n",
    "for p in range(4):\n",
    "    for q in range(4):\n",
    "        A[p][q] = - ( (2 * np.pi) / ( alpha[p] + alpha[q] ) )\n",
    "        \n",
    "# build h\n",
    "for p in range(4):\n",
    "    for q in range(4):\n",
    "        h[p][q] = 2*A[p][q] + T[p][q]"
   ]
  },
  {
   "cell_type": "code",
   "execution_count": 119,
   "metadata": {},
   "outputs": [],
   "source": [
    "# C normalization\n",
    "def c_norm(c,S):\n",
    "    NormSquared = c@S@c\n",
    "    c = c/np.sqrt(NormSquared)\n",
    "    return c\n",
    "\n",
    "c = c_norm(c,S)"
   ]
  },
  {
   "cell_type": "code",
   "execution_count": 123,
   "metadata": {},
   "outputs": [],
   "source": [
    "def build_F(h,Q,c):\n",
    "    F1 = np.zeros((4,4))\n",
    "    for r in range(4):\n",
    "        for s in range(4):\n",
    "            F1[p][q] = Q[p][r][q][s]*c[r]*c[s]\n",
    "    \n",
    "    return (h + F1)\n",
    "\n",
    "def build_Eg(c,h,Q):\n",
    "    \n",
    "    Eg1 = 0\n",
    "    Eg2 = 0\n",
    "    \n",
    "    for p in range(4):\n",
    "        for r in range(4):\n",
    "            for q in range(4):\n",
    "                for s in range(4):\n",
    "                    Eg1 = Eg1 + Q[p][r][q][s]*c[p]*c[q]*c[r]*c[s]\n",
    "                    \n",
    "    for p in range(4):\n",
    "        for q in range(4):\n",
    "            Eg2 = Eg2 + c[p]*c[q]*h[p][q]\n",
    "            \n",
    "    return Eg1 + 2 * Eg2    "
   ]
  },
  {
   "cell_type": "code",
   "execution_count": 134,
   "metadata": {},
   "outputs": [
    {
     "name": "stdout",
     "output_type": "stream",
     "text": [
      "[ 0.08704177  0.38509941  0.17304437 -0.05073576]\n",
      "[ 0.08704177  0.38509941  0.17304437 -0.05073576]\n"
     ]
    }
   ],
   "source": [
    "E = 0.\n",
    "new_E = 1000.\n",
    "\n",
    "while( abs(E-new_E) > 1e-7 ):\n",
    "    \n",
    "    F=build_F(h,Q,c)\n",
    "    E = new_E\n",
    "    \n",
    "    # Solve the generalized eigenvalue problem Fc = E'Sc\n",
    "    eigenvalues, eigenvectors = \\\n",
    "    eigh(F, b=S, eigvals_only=False, overwrite_a=True, overwrite_b=True)\n",
    "    sort_indices = np.argsort(eigenvalues)\n",
    "    eigenvalues = eigenvalues[sort_indices]\n",
    "    eigenvectors = eigenvectors[:, sort_indices]\n",
    "    \n",
    "    c = c_norm(eigenvectors[0], S)\n",
    "    new_E = build_Eg(c,h,Q)\n"
   ]
  },
  {
   "cell_type": "code",
   "execution_count": 135,
   "metadata": {},
   "outputs": [
    {
     "name": "stdout",
     "output_type": "stream",
     "text": [
      "-2.690983846221795\n"
     ]
    }
   ],
   "source": [
    "result = build_Eg(c,h,Q)\n",
    "print(result)"
   ]
  },
  {
   "cell_type": "code",
   "execution_count": null,
   "metadata": {},
   "outputs": [],
   "source": []
  }
 ],
 "metadata": {
  "kernelspec": {
   "display_name": "torchenv",
   "language": "python",
   "name": "torchenv"
  },
  "language_info": {
   "codemirror_mode": {
    "name": "ipython",
    "version": 3
   },
   "file_extension": ".py",
   "mimetype": "text/x-python",
   "name": "python",
   "nbconvert_exporter": "python",
   "pygments_lexer": "ipython3",
   "version": "3.11.5"
  }
 },
 "nbformat": 4,
 "nbformat_minor": 2
}
